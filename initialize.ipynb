{
 "cells": [
  {
   "cell_type": "code",
   "execution_count": 1,
   "metadata": {},
   "outputs": [],
   "source": [
    "import datajoint as dj\n",
    "import os\n",
    "from faker import Faker\n",
    "from datetime import datetime"
   ]
  },
  {
   "cell_type": "code",
   "execution_count": null,
   "metadata": {},
   "outputs": [],
   "source": [
    "dj.config[\"safemode\"] = False"
   ]
  },
  {
   "cell_type": "code",
   "execution_count": 2,
   "metadata": {},
   "outputs": [],
   "source": [
    "fake = Faker()\n",
    "Faker.seed(\"sciviz\")"
   ]
  },
  {
   "cell_type": "code",
   "execution_count": 3,
   "metadata": {},
   "outputs": [
    {
     "name": "stderr",
     "output_type": "stream",
     "text": [
      "[2023-02-11 14:38:17,037][INFO]: Connecting root@fakeservices.datajoint.io:3306\n",
      "[2023-02-11 14:38:17,048][INFO]: Connected root@fakeservices.datajoint.io:3306\n"
     ]
    },
    {
     "data": {
      "text/plain": [
       "DataJoint connection (connected) root@fakeservices.datajoint.io:3306"
      ]
     },
     "execution_count": 3,
     "metadata": {},
     "output_type": "execute_result"
    }
   ],
   "source": [
    "dj.conn(\n",
    "    host=os.getenv(\"PHARUS_HOST\"),\n",
    "    user=os.getenv(\"PHARUS_USER\"),\n",
    "    password=os.getenv(\"PHARUS_PASSWORD\"),\n",
    ")"
   ]
  },
  {
   "cell_type": "code",
   "execution_count": 4,
   "metadata": {},
   "outputs": [],
   "source": [
    "schema = dj.Schema(\"demo\")\n",
    "schema.drop()\n",
    "schema = dj.Schema(\"demo\")"
   ]
  },
  {
   "cell_type": "code",
   "execution_count": 5,
   "metadata": {},
   "outputs": [],
   "source": [
    "@schema\n",
    "class Scientist(dj.Lookup):\n",
    "    definition = \"\"\"\n",
    "    scientist_id: int\n",
    "    ---\n",
    "    scientist_name: varchar(50)\n",
    "    \"\"\"\n",
    "    contents = [(i, fake.first_name()) for i in range(50)]"
   ]
  },
  {
   "cell_type": "code",
   "execution_count": 6,
   "metadata": {},
   "outputs": [],
   "source": [
    "@schema\n",
    "class ExperimentSession(dj.Lookup):\n",
    "    definition = \"\"\"\n",
    "    -> Scientist\n",
    "    session_datetime: datetime\n",
    "    \"\"\"\n",
    "    contents = [\n",
    "        (\n",
    "            i,\n",
    "            fake.date_time_between(\n",
    "                start_date=datetime(2022,12,1,0,0,0),\n",
    "                end_date=datetime(2022,12,31,23,59,59)\n",
    "            )\n",
    "        ) for i in range(50) for _ in range(20)\n",
    "    ]"
   ]
  },
  {
   "cell_type": "code",
   "execution_count": 7,
   "metadata": {},
   "outputs": [],
   "source": [
    "@schema\n",
    "class ScientistPerformance(dj.Computed):\n",
    "    definition = \"\"\"\n",
    "    -> Scientist\n",
    "    ---\n",
    "    performance_plot: longblob\n",
    "    \"\"\"\n",
    "\n",
    "    def make(self, key):\n",
    "        scientist_name = (Scientist & key).fetch1(\"scientist_name\")\n",
    "        datetimes = (ExperimentSession & key).fetch(\"session_datetime\")\n",
    "        dates = sorted(set(d.date() for d in datetimes))\n",
    "        session_counts = [sum([dt.date() == d for dt in datetimes]) for d in dates]\n",
    "        plot = {\n",
    "            \"data\": [\n",
    "                {\n",
    "                    \"x\": dates,\n",
    "                    \"y\": session_counts,\n",
    "                    \"type\": \"bar\",\n",
    "                }\n",
    "            ],\n",
    "            'layout': {\n",
    "                'title': f\"{scientist_name}'s Session Performance\",\n",
    "                'xaxis': {\"title\": \"Date\"},\n",
    "                'yaxis': {\"title\": \"No. of Sessions\"},\n",
    "            }\n",
    "        }\n",
    "        self.insert1(dict(key, performance_plot=plot))"
   ]
  },
  {
   "cell_type": "code",
   "execution_count": 9,
   "metadata": {},
   "outputs": [],
   "source": [
    "ScientistPerformance.populate()"
   ]
  },
  {
   "cell_type": "code",
   "execution_count": null,
   "metadata": {},
   "outputs": [],
   "source": []
  }
 ],
 "metadata": {
  "kernelspec": {
   "display_name": "Python 3.7.16 64-bit",
   "language": "python",
   "name": "python3"
  },
  "language_info": {
   "codemirror_mode": {
    "name": "ipython",
    "version": 3
   },
   "file_extension": ".py",
   "mimetype": "text/x-python",
   "name": "python",
   "nbconvert_exporter": "python",
   "pygments_lexer": "ipython3",
   "version": "3.7.16"
  },
  "orig_nbformat": 4,
  "vscode": {
   "interpreter": {
    "hash": "949777d72b0d2535278d3dc13498b2535136f6dfe0678499012e853ee9abcab1"
   }
  }
 },
 "nbformat": 4,
 "nbformat_minor": 2
}
